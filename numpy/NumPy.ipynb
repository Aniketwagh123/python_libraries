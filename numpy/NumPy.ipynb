{
 "cells": [
  {
   "cell_type": "markdown",
   "metadata": {},
   "source": [
    "# NumPy Exercises\n",
    "\n",
    "## 1. Convert List to NumPy Array\n",
    "\n",
    "**Question:** Write a Python program to convert a list of numeric value into a one-dimensional NumPy array.\n",
    "\n",
    "**Expected Output:**\n",
    "\n",
    "*Original List:* [12.23, 13.32, 100, 36.32] \n",
    "*One-dimensional numpy array:* [ 12.23 13.32 100. 36.32]\n"
   ]
  },
  {
   "cell_type": "code",
   "execution_count": 4,
   "metadata": {},
   "outputs": [],
   "source": [
    "import numpy as np"
   ]
  },
  {
   "cell_type": "code",
   "execution_count": 5,
   "metadata": {},
   "outputs": [
    {
     "name": "stdout",
     "output_type": "stream",
     "text": [
      "orignal List: [12.23, 13.32, 100, 36.32]\n",
      "1D numpy array: [ 12.23  13.32 100.    36.32]\n"
     ]
    }
   ],
   "source": [
    "number_list = [12.23, 13.32, 100, 36.32] \n",
    "print(f'orignal List: {number_list}')\n",
    "print(f'1D numpy array: {np.array(number_list)}')\n"
   ]
  },
  {
   "cell_type": "markdown",
   "metadata": {},
   "source": [
    "## 2. Create 3x3 Matrix\n",
    "\n",
    "**Question:** Create a 3x3 matrix with values ranging from 2 to 10.\n",
    "\n",
    "**Expected Output:**\n",
    "[[ 2 3 4]\n",
    "[ 5 6 7]\n",
    "[ 8 9 10]]"
   ]
  },
  {
   "cell_type": "code",
   "execution_count": 6,
   "metadata": {},
   "outputs": [
    {
     "data": {
      "text/plain": [
       "array([[ 2,  3,  4],\n",
       "       [ 5,  6,  7],\n",
       "       [ 8,  9, 10]])"
      ]
     },
     "execution_count": 6,
     "metadata": {},
     "output_type": "execute_result"
    }
   ],
   "source": [
    "np.arange(2,11).reshape((3,3))"
   ]
  },
  {
   "cell_type": "markdown",
   "metadata": {},
   "source": [
    "## 3. Null Vector with Update\n",
    "\n",
    "**Question:** Write a Python program to create a null vector of size 10 and update the sixth value to 11.\n",
    "\n",
    "**Expected Output:**\n",
    "[ 0. 0. 0. 0. 0. 0. 0. 0. 0. 0.]\n",
    "Update sixth value to 11\n",
    "[ 0. 0. 0. 0. 0. 0. 11. 0. 0. 0.]"
   ]
  },
  {
   "cell_type": "code",
   "execution_count": 7,
   "metadata": {},
   "outputs": [
    {
     "data": {
      "text/plain": [
       "array([ 0.,  0.,  0.,  0.,  0.,  0., 11.,  0.,  0.,  0.])"
      ]
     },
     "execution_count": 7,
     "metadata": {},
     "output_type": "execute_result"
    }
   ],
   "source": [
    "vector = np.zeros(10)\n",
    "vector[6] = 11\n",
    "vector\n"
   ]
  },
  {
   "cell_type": "markdown",
   "metadata": {},
   "source": [
    "## 4. Reverse an Array\n",
    "\n",
    "**Question:** Write a Python program to reverse an array (first element becomes last).\n",
    "\n",
    "**Expected Output:**\n",
    "Original array:\n",
    "[12 13 14 15 16 17 18 19 20 21 22 23 24 25 26 27 28 29 30 31 32 33 34 35 36 37]\n",
    "Reverse array:\n",
    "[37 36 35 34 33 32 31 30 29 28 27 26 25 24 23 22 21 20 19 18 17 16 15 14 13 12]"
   ]
  },
  {
   "cell_type": "code",
   "execution_count": 8,
   "metadata": {},
   "outputs": [
    {
     "name": "stdout",
     "output_type": "stream",
     "text": [
      "before reverse: [12 13 14 15 16 17 18 19 20 21 22 23 24 25 26 27 28 29 30 31 32 33 34 35\n",
      " 36 37]\n",
      "after reverse: [37 36 35 34 33 32 31 30 29 28 27 26 25 24 23 22 21 20 19 18 17 16 15 14\n",
      " 13 12]\n"
     ]
    }
   ],
   "source": [
    "array = np.arange(12,38)\n",
    "print(f'before reverse: {array}')\n",
    "print(f'after reverse: {array[::-1]}')"
   ]
  },
  {
   "cell_type": "markdown",
   "metadata": {},
   "source": [
    "## 5. 2D Array with Border\n",
    "\n",
    "**Question:** Write a Python program to create a 2D array with 1 on the border and 0 inside.\n",
    "\n",
    "**Expected Output:**\n",
    "Original array:\n",
    "[[ 1. 1. 1. 1. 1.]\n",
    "[ 1. 1. 1. 1. 1.]\n",
    "[ 1. 1. 1. 1. 1.]\n",
    "[ 1. 1. 1. 1. 1.]\n",
    "[ 1. 1. 1. 1. 1.]]\n",
    "\n",
    "1 on the border and 0 inside in the array\n",
    "[[ 1. 1. 1. 1. 1.]\n",
    "[ 1. 0. 0. 0. 1.]\n",
    "[ 1. 0. 0. 0. 1.]\n",
    "[ 1. 0. 0. 0. 1.]\n",
    "[ 1. 1. 1. 1. 1.]]"
   ]
  },
  {
   "cell_type": "code",
   "execution_count": 9,
   "metadata": {},
   "outputs": [
    {
     "name": "stdout",
     "output_type": "stream",
     "text": [
      "before reverse: \n",
      "[[1. 1. 1. 1. 1.]\n",
      " [1. 1. 1. 1. 1.]\n",
      " [1. 1. 1. 1. 1.]\n",
      " [1. 1. 1. 1. 1.]\n",
      " [1. 1. 1. 1. 1.]]\n",
      "after reverse: \n",
      "[[1. 1. 1. 1. 1.]\n",
      " [1. 0. 0. 0. 1.]\n",
      " [1. 0. 0. 0. 1.]\n",
      " [1. 0. 0. 0. 1.]\n",
      " [1. 1. 1. 1. 1.]]\n"
     ]
    }
   ],
   "source": [
    "matrix = np.ones((5,5))\n",
    "print(f'before reverse: \\n{matrix}')\n",
    "matrix[1:4:,1:4] = 0\n",
    "print(f'after reverse: \\n{matrix}')"
   ]
  },
  {
   "cell_type": "markdown",
   "metadata": {},
   "source": [
    "## 6. Add Border Around Array\n",
    "\n",
    "**Question:** Write a Python program to add a border (filled with 0's) around an existing array.\n",
    "\n",
    "**Expected Output:**\n",
    "Original array:\n",
    "[[ 1. 1. 1.]\n",
    "[ 1. 1. 1.]\n",
    "[ 1. 1. 1.]]\n",
    "1 on the border and 0 inside in the array\n",
    "[[ 0. 0. 0. 0. 0.]\n",
    "[ 0. 1. 1. 1. 0.]\n",
    "[ 0. 1. 1. 1. 0.]\n",
    "[ 0. 1. 1. 1. 0.]\n",
    "[ 0. 0. 0. 0. 0.]]"
   ]
  },
  {
   "cell_type": "code",
   "execution_count": 10,
   "metadata": {},
   "outputs": [
    {
     "name": "stdout",
     "output_type": "stream",
     "text": [
      "before border: \n",
      "[[1. 1. 1.]\n",
      " [1. 1. 1.]\n",
      " [1. 1. 1.]]\n",
      "after border: \n",
      "[ 0 12 13 14 15 16 17 18 19 20 21 22 23 24 25 26 27 28 29 30 31 32 33 34\n",
      " 35 36 37  0]\n"
     ]
    }
   ],
   "source": [
    "matrix = np.ones((3,3))\n",
    "print(f'before border: \\n{matrix}')\n",
    "bordered_matrix = np.pad(array, pad_width=1, mode='constant', constant_values=0)\n",
    "print(f'after border: \\n{bordered_matrix}')\n"
   ]
  },
  {
   "cell_type": "markdown",
   "metadata": {},
   "source": [
    "## 7. Checkerboard Pattern\n",
    "\n",
    "**Question:** Write a Python program to create an 8x8 matrix and fill it with a checkerboard pattern.\n",
    "\n",
    "**Expected Output:**\n",
    "Checkerboard pattern:\n",
    "[[0 1 0 1 0 1 0 1]\n",
    "[1 0 1 0 1 0 1 0]\n",
    "[0 1 0 1 0 1 0 1]\n",
    "[1 0 1 0 1 0 1 0]\n",
    "[0 1 0 1 0 1 0 1]\n",
    "[1 0 1 0 1 0 1 0]\n",
    "[0 1 0 1 0 1 0 1]\n",
    "[1 0 1 0 1 0 1 0]]\n",
    "\n"
   ]
  },
  {
   "cell_type": "code",
   "execution_count": 11,
   "metadata": {},
   "outputs": [
    {
     "name": "stdout",
     "output_type": "stream",
     "text": [
      "Checkerboard pattern:\n",
      "[[0 1 0 1 0 1 0 1]\n",
      " [1 0 1 0 1 0 1 0]\n",
      " [0 1 0 1 0 1 0 1]\n",
      " [1 0 1 0 1 0 1 0]\n",
      " [0 1 0 1 0 1 0 1]\n",
      " [1 0 1 0 1 0 1 0]\n",
      " [0 1 0 1 0 1 0 1]\n",
      " [1 0 1 0 1 0 1 0]]\n"
     ]
    }
   ],
   "source": [
    "n = 8\n",
    "matrix = np.zeros((n, n), dtype=int)\n",
    "\n",
    "mask = np.indices((n, n)).sum(axis=0) % 2\n",
    "\n",
    "matrix[:] = mask\n",
    "\n",
    "print(\"Checkerboard pattern:\")\n",
    "print(matrix)\n"
   ]
  },
  {
   "cell_type": "markdown",
   "metadata": {},
   "source": [
    "## 8. Convert List and Tuple to Arrays\n",
    "\n",
    "**Question:** Write a Python program to convert a list and tuple into arrays.\n",
    "\n",
    "**Expected Output:**\n",
    "List to array:\n",
    "[1 2 3 4 5 6 7 8]\n",
    "Tuple to array:\n",
    "[[8 4 6]\n",
    "[1 2 3]]"
   ]
  },
  {
   "cell_type": "code",
   "execution_count": 12,
   "metadata": {},
   "outputs": [
    {
     "data": {
      "text/plain": [
       "array([[8, 4, 6],\n",
       "       [1, 2, 3]])"
      ]
     },
     "execution_count": 12,
     "metadata": {},
     "output_type": "execute_result"
    }
   ],
   "source": [
    "python_list = [1,2,3,4,5,6,7,8,9]\n",
    "touple = [(8, 4, 6),(1, 2, 3)]\n",
    "np.array(touple)"
   ]
  },
  {
   "cell_type": "markdown",
   "metadata": {},
   "source": [
    "## 9. Append Values to Array\n",
    "\n",
    "**Question:** Write a Python program to append values to the end of an array.\n",
    "\n",
    "**Expected Output:**\n",
    "Original array:\n",
    "[10, 20, 30]\n",
    "\n",
    "After append values to the end of the array:\n",
    "[10 20 30 40 50 60 70 80 90]"
   ]
  },
  {
   "cell_type": "code",
   "execution_count": 13,
   "metadata": {},
   "outputs": [
    {
     "name": "stdout",
     "output_type": "stream",
     "text": [
      "original array: [10 20 30]\n",
      "values to append: [30 40 50 60 70 80 90]\n",
      "output: [10 20 30 30 40 50 60 70 80 90]\n"
     ]
    }
   ],
   "source": [
    "original_array = np.arange(10,40,10)\n",
    "values_to_append = np.arange(30,100,10)\n",
    "print(f'original array: {original_array}')\n",
    "print(f'values to append: {values_to_append}')\n",
    "print(f'output: {np.append(original_array,values_to_append)}')"
   ]
  },
  {
   "cell_type": "markdown",
   "metadata": {},
   "source": [
    "## 10. Real and Imaginary Parts of Array\n",
    "\n",
    "**Question:** Write a Python program to find the real and imaginary parts of an array of complex numbers.\n",
    "\n",
    "**Expected Output:**\n",
    "Original array [ 1.00000000+0.j 0.70710678+0.70710678j]\n",
    "Real part of the array:\n",
    "[ 1. 0.70710678]\n",
    "Imaginary part of the array:\n",
    "[ 0. 0.70710678]"
   ]
  },
  {
   "cell_type": "code",
   "execution_count": 14,
   "metadata": {},
   "outputs": [
    {
     "name": "stdout",
     "output_type": "stream",
     "text": [
      "Original array:\n",
      "[1.        +0.j         0.70710678+0.70710678j]\n",
      "\n",
      "Real part of the array:\n",
      "[1.         0.70710678]\n",
      "\n",
      "Imaginary part of the array:\n",
      "[0.         0.70710678]\n"
     ]
    }
   ],
   "source": [
    "complex_array = np.array([1.00000000 + 0.j, 0.70710678 + 0.70710678j])\n",
    "\n",
    "real_part = complex_array.real\n",
    "\n",
    "imaginary_part = complex_array.imag\n",
    "\n",
    "print(\"Original array:\")\n",
    "print(complex_array)\n",
    "\n",
    "print(\"\\nReal part of the array:\")\n",
    "print(real_part)\n",
    "\n",
    "print(\"\\nImaginary part of the array:\")\n",
    "print(imaginary_part)\n"
   ]
  },
  {
   "cell_type": "markdown",
   "metadata": {},
   "source": [
    "## 11. Array Size and Memory Usage\n",
    "\n",
    "**Question:** Write a Python program to find the number of elements of an array, length of one array element in bytes and total bytes consumed by the elements.\n",
    "\n",
    "**Expected Output:**\n",
    "Size of the array: 3\n",
    "Length of one array element in bytes: 8\n",
    "Total bytes consumed by the elements of the array: 24"
   ]
  },
  {
   "cell_type": "code",
   "execution_count": 15,
   "metadata": {},
   "outputs": [
    {
     "name": "stdout",
     "output_type": "stream",
     "text": [
      "Size of the array: 3\n",
      "Length of one array element in bytes: 8\n",
      "Total bytes consumed by the elements of the array: 24\n"
     ]
    }
   ],
   "source": [
    "array = np.array([10, 20, 30], dtype=np.float64)\n",
    "\n",
    "array_size = array.size\n",
    "\n",
    "element_size = array.itemsize\n",
    "\n",
    "total_bytes = array.nbytes\n",
    "\n",
    "print(\"Size of the array:\", array_size)\n",
    "print(\"Length of one array element in bytes:\", element_size)\n",
    "print(\"Total bytes consumed by the elements of the array:\", total_bytes)\n"
   ]
  },
  {
   "cell_type": "markdown",
   "metadata": {},
   "source": [
    "## 12. Common Values Between Two Arrays\n",
    "\n",
    "**Question:** Write a Python program to find common values between two arrays.\n",
    "\n",
    "**Expected Output:**\n",
    "Array1: [ 0 10 20 40 60]\n",
    "Array2: [10, 30, 40]\n",
    "Common values between two arrays:\n",
    "[10 40]"
   ]
  },
  {
   "cell_type": "code",
   "execution_count": 16,
   "metadata": {},
   "outputs": [
    {
     "name": "stdout",
     "output_type": "stream",
     "text": [
      "Array1: [ 0 10 20 40 60]\n",
      "Array2: [10 30 40]\n",
      "\n",
      "Common values between two arrays:\n",
      "[10 40]\n"
     ]
    }
   ],
   "source": [
    "array1 = np.array([0, 10, 20, 40, 60])\n",
    "array2 = np.array([10, 30, 40])\n",
    "\n",
    "common_values = np.intersect1d(array1, array2)\n",
    "\n",
    "print(\"Array1:\", array1)\n",
    "print(\"Array2:\", array2)\n",
    "\n",
    "print(\"\\nCommon values between two arrays:\")\n",
    "print(common_values)"
   ]
  },
  {
   "cell_type": "markdown",
   "metadata": {},
   "source": [
    "## 13. Set Difference of Two Arrays\n",
    "\n",
    "**Question:** Write a Python program to find the set difference of two arrays. The set difference will return the sorted, unique values in array1 that are not in array2.\n",
    "\n",
    "**Expected Output:**\n",
    "Array1: [ 0 10 20 40 60 80]\n",
    "Array2: [10, 30, 40, 50, 70, 90]\n",
    "Set difference between two arrays:\n",
    "[ 0 20 60 80]"
   ]
  },
  {
   "cell_type": "code",
   "execution_count": 17,
   "metadata": {},
   "outputs": [
    {
     "name": "stdout",
     "output_type": "stream",
     "text": [
      "Array1: [ 0 10 20 40 60 80]\n",
      "Array2: [10 30 40 50 70 90]\n",
      "\n",
      "Set difference between two arrays:\n",
      "[ 0 20 60 80]\n"
     ]
    }
   ],
   "source": [
    "array1 = np.array([0, 10, 20, 40, 60, 80])\n",
    "array2 = np.array([10, 30, 40, 50, 70, 90])\n",
    "\n",
    "set_difference = np.setdiff1d(array1, array2)\n",
    "\n",
    "print(\"Array1:\", array1)\n",
    "print(\"Array2:\", array2)\n",
    "\n",
    "print(\"\\nSet difference between two arrays:\")\n",
    "print(set_difference)\n"
   ]
  },
  {
   "cell_type": "markdown",
   "metadata": {},
   "source": [
    "## 14. Set Exclusive-Or of Two Arrays\n",
    "\n",
    "**Question:** Write a Python program to find the set exclusive-or of two arrays. Set exclusive-or will return the sorted, unique values that are in only one (not both) of the input arrays.\n",
    "\n",
    "**Expected Output:**\n",
    "Array1: [ 0 10 20 40 60 80]\n",
    "Array2: [10, 30, 40, 50, 70]\n",
    "Unique values that are in only one (not both) of the input arrays:\n",
    "[ 0 20 30 50 60 70 80]"
   ]
  },
  {
   "cell_type": "code",
   "execution_count": 18,
   "metadata": {},
   "outputs": [
    {
     "name": "stdout",
     "output_type": "stream",
     "text": [
      "Array1: [ 0 10 20 40 60 80]\n",
      "Array2: [10 30 40 50 70]\n",
      "\n",
      "Unique values that are in only one (not both) of the input arrays:\n",
      "[ 0 20 30 50 60 70 80]\n"
     ]
    }
   ],
   "source": [
    "array1 = np.array([0, 10, 20, 40, 60, 80])\n",
    "array2 = np.array([10, 30, 40, 50, 70])\n",
    "\n",
    "exclusive_or = np.setxor1d(array1, array2)\n",
    "\n",
    "print(\"Array1:\", array1)\n",
    "print(\"Array2:\", array2)\n",
    "\n",
    "print(\"\\nUnique values that are in only one (not both) of the input arrays:\")\n",
    "print(exclusive_or)\n"
   ]
  },
  {
   "cell_type": "markdown",
   "metadata": {},
   "source": [
    "## 15. Compare Two Arrays\n",
    "\n",
    "**Question:** Write a Python program to compare two arrays using numpy.\n",
    "\n",
    "**Expected Output:**\n",
    "Array a: [1 2]\n",
    "Array b: [4 5]\n",
    "a > b\n",
    "[False False]\n",
    "a >= b\n",
    "[False False]\n",
    "a < b\n",
    "[ True True]\n",
    "a <= b\n",
    "[ True True]"
   ]
  },
  {
   "cell_type": "code",
   "execution_count": 19,
   "metadata": {},
   "outputs": [
    {
     "name": "stdout",
     "output_type": "stream",
     "text": [
      "a: [1 2]\n",
      "b: [4 5]\n",
      "a>b: [False False]\n",
      "a>=b: [False False]\n",
      "a<b: [ True  True]\n",
      "a<=b: [ True  True]\n"
     ]
    }
   ],
   "source": [
    "a = np.array([1, 2])\n",
    "b = np.array([4, 5])\n",
    "\n",
    "print(f'a: {a}')\n",
    "print(f'b: {b}')\n",
    "print(f'a>b: {a>b}')\n",
    "print(f'a>=b: {a>=b}')\n",
    "print(f'a<b: {a<b}')\n",
    "print(f'a<=b: {a<=b}')"
   ]
  },
  {
   "cell_type": "markdown",
   "metadata": {},
   "source": []
  },
  {
   "cell_type": "markdown",
   "metadata": {},
   "source": [
    "## 16. Save NumPy Array to a Text File\n",
    "\n",
    "**Question:** Write a Python program to save a NumPy array to a text file.\n"
   ]
  },
  {
   "cell_type": "code",
   "execution_count": 20,
   "metadata": {},
   "outputs": [],
   "source": [
    "array = np.arange(1,10)\n",
    "array.tofile('array_data.csv', sep=',', format='%d')"
   ]
  },
  {
   "cell_type": "markdown",
   "metadata": {},
   "source": [
    "## 17. Create Contiguous Flattened Array\n",
    "\n",
    "**Question:** Write a Python program to create a contiguous flattened array.\n",
    "\n",
    "**Expected Output:**\n",
    "Original array:\n",
    "[[10 20 30]\n",
    "[20 40 50]]\n",
    "New flattened array:\n",
    "[10 20 30 20 40 50]"
   ]
  },
  {
   "cell_type": "code",
   "execution_count": 21,
   "metadata": {},
   "outputs": [
    {
     "name": "stdout",
     "output_type": "stream",
     "text": [
      "original array: [[0 1 2]\n",
      " [3 4 5]\n",
      " [6 7 8]]\n",
      "flattend array: [0 1 2 3 4 5 6 7 8]\n"
     ]
    }
   ],
   "source": [
    "array = np.arange(9).reshape((3,3))\n",
    "print(f'original array: {array}')\n",
    "print(f'flattend array: {array.ravel()}')\n"
   ]
  },
  {
   "cell_type": "markdown",
   "metadata": {},
   "source": [
    "## 18. 3D Array with Diagonal Ones\n",
    "\n",
    "**Question:** Write a Python program to create a 3-D array with ones on a diagonal and zeros elsewhere.\n",
    "\n",
    "**Expected Output:**\n",
    "[[ 1. 0. 0.]\n",
    "[ 0. 1. 0.]\n",
    "[ 0. 0. 1.]]"
   ]
  },
  {
   "cell_type": "code",
   "execution_count": 22,
   "metadata": {},
   "outputs": [
    {
     "data": {
      "text/plain": [
       "array([[1, 0, 0],\n",
       "       [0, 1, 0],\n",
       "       [0, 0, 1]])"
      ]
     },
     "execution_count": 22,
     "metadata": {},
     "output_type": "execute_result"
    }
   ],
   "source": [
    "np.identity(3, dtype=int)"
   ]
  },
  {
   "cell_type": "markdown",
   "metadata": {},
   "source": [
    "## 19. Create Specific Array\n",
    "\n",
    "**Question:** Write a Python program to create an array which looks like below array.\n",
    "\n",
    "**Expected Output:**\n",
    "[[ 0. 0. 0.]\n",
    "[ 1. 0. 0.]\n",
    "[ 1. 1. 0.]\n",
    "[ 1. 1. 1.]]"
   ]
  },
  {
   "cell_type": "code",
   "execution_count": 26,
   "metadata": {},
   "outputs": [
    {
     "data": {
      "text/plain": [
       "array([[0., 0., 0.],\n",
       "       [1., 0., 0.],\n",
       "       [1., 1., 0.],\n",
       "       [1., 1., 1.]])"
      ]
     },
     "execution_count": 26,
     "metadata": {},
     "output_type": "execute_result"
    }
   ],
   "source": [
    "np.tri(4, 3, -1, dtype=float)"
   ]
  },
  {
   "cell_type": "markdown",
   "metadata": {},
   "source": [
    "## 20. Concatenate Two 2D Arrays\n",
    "\n",
    "**Question:** Write a Python program to concatenate two 2-dimensional arrays.\n",
    "\n",
    "**Expected Output:**\n",
    "Sample arrays: ([[0, 1, 3], [5, 7, 9]], [[0, 2, 4], [6, 8, 10]])\n",
    "Expected Output:\n",
    "[[ 0 1 3 0 2 4]\n",
    "[ 5 7 9 6 8 10]]"
   ]
  },
  {
   "cell_type": "code",
   "execution_count": 28,
   "metadata": {},
   "outputs": [
    {
     "data": {
      "text/plain": [
       "array([[ 0,  1,  3,  0,  2,  4],\n",
       "       [ 5,  7,  9,  6,  8, 10]])"
      ]
     },
     "execution_count": 28,
     "metadata": {},
     "output_type": "execute_result"
    }
   ],
   "source": [
    "array1 = np.array([[0, 1, 3],\n",
    "                   [5, 7, 9]])\n",
    "\n",
    "array2 = np.array([[0, 2, 4],\n",
    "                   [6, 8, 10]])\n",
    "\n",
    "np.concatenate((array1, array2), axis=1)"
   ]
  },
  {
   "cell_type": "markdown",
   "metadata": {},
   "source": [
    "## 21. Make Array Immutable\n",
    "\n",
    "**Question:** Write a Python program to make an array immutable (read-only).\n",
    "\n",
    "**Expected Output:**\n",
    "Test the array is read-only or not:\n",
    "Try to change the value of the first element:\n",
    "Traceback (most recent call last):\n",
    "File \"19236bd0-0bd9-11e7-a232-c706d0968eb6.py\", line 6, in\n",
    "x[0] = 1\n",
    "ValueError: assignment destination is read-only"
   ]
  },
  {
   "cell_type": "code",
   "execution_count": 29,
   "metadata": {},
   "outputs": [
    {
     "name": "stdout",
     "output_type": "stream",
     "text": [
      "Original array: [1 2 3 4 5]\n",
      "Error: assignment destination is read-only\n"
     ]
    }
   ],
   "source": [
    "array = np.array([1, 2, 3, 4, 5])\n",
    "\n",
    "array.flags.writeable = False\n",
    "\n",
    "print(\"Original array:\", array)\n",
    "\n",
    "try:\n",
    "    array[0] = 10\n",
    "except ValueError as e:\n",
    "    print(\"Error:\", e)\n"
   ]
  },
  {
   "cell_type": "markdown",
   "metadata": {},
   "source": [
    "## 22. Multiply Array Elements\n",
    "\n",
    "**Question:** Write a Python program to create an array of (3, 4) shape, multiply every element value by 3 and display the new array.\n",
    "\n",
    "**Expected Output:**\n",
    "Original array elements:\n",
    "[[ 0 1 2 3]\n",
    "[ 4 5 6 7]\n",
    "[ 8 9 10 11]]\n",
    "New array elements:\n",
    "[[ 0 3 6 9]\n",
    "[12 15 18 21]\n",
    "[24 27 30 33]]\n",
    "\n"
   ]
  },
  {
   "cell_type": "code",
   "execution_count": 31,
   "metadata": {},
   "outputs": [
    {
     "name": "stdout",
     "output_type": "stream",
     "text": [
      "Original array elements:\n",
      "[[0 1 2]\n",
      " [3 4 5]\n",
      " [6 7 8]]\n",
      "\n",
      "New array elements:\n",
      "[[ 0  3  6]\n",
      " [ 9 12 15]\n",
      " [18 21 24]]\n"
     ]
    }
   ],
   "source": [
    "array = np.arange(9).reshape((3,3))\n",
    "\n",
    "print(\"Original array elements:\")\n",
    "print(array)\n",
    "\n",
    "new_array = array * 3\n",
    "\n",
    "print(\"\\nNew array elements:\")\n",
    "print(new_array)\n"
   ]
  },
  {
   "cell_type": "markdown",
   "metadata": {},
   "source": [
    "## 23. Convert NumPy Array to Python List\n",
    "\n",
    "**Question:** Write a Python program to convert a NumPy array into Python list structure.\n",
    "\n",
    "**Expected Output:**\n",
    "Original array elements:\n",
    "[[0 1]\n",
    "[2 3]\n",
    "[4 5]]\n",
    "Array to list:\n",
    "[[0, 1], [2, 3], [4, 5]]"
   ]
  },
  {
   "cell_type": "code",
   "execution_count": 32,
   "metadata": {},
   "outputs": [
    {
     "name": "stdout",
     "output_type": "stream",
     "text": [
      "Original array elements:\n",
      "[[0 1]\n",
      " [2 3]\n",
      " [4 5]]\n",
      "\n",
      "Array to list:\n",
      "[[0, 1], [2, 3], [4, 5]]\n"
     ]
    }
   ],
   "source": [
    "import numpy as np\n",
    "\n",
    "array = np.arange(6).reshape((3,2))\n",
    "\n",
    "print(\"Original array elements:\")\n",
    "print(array)\n",
    "\n",
    "list_structure = array.tolist()\n",
    "\n",
    "print(\"\\nArray to list:\")\n",
    "print(list_structure)\n",
    " "
   ]
  },
  {
   "cell_type": "markdown",
   "metadata": {},
   "source": [
    "## 24. Print Array with Precision\n",
    "\n",
    "**Question:** Write a Python program to convert a NumPy array into Python list structure with precision.\n",
    "\n",
    "**Expected Output:**\n",
    "Original array elements:\n",
    "[ 0.26153123 0.52760141 0.5718299 0.5927067 0.7831874 0.69746349\n",
    "0.35399976 0.99469633 0.0694458 0.54711478]\n",
    "Print array values with precision 3:\n",
    "[ 0.262 0.528 0.572 0.593 0.783 0.697 0.354 0.995 0.069 0.547]"
   ]
  },
  {
   "cell_type": "code",
   "execution_count": 37,
   "metadata": {},
   "outputs": [
    {
     "name": "stdout",
     "output_type": "stream",
     "text": [
      "Original array elements:\n",
      "[0.    0.02  0.041 0.061 0.082 0.102 0.122 0.143 0.163 0.184 0.204 0.224\n",
      " 0.245 0.265 0.286 0.306 0.327 0.347 0.367 0.388 0.408 0.429 0.449 0.469\n",
      " 0.49  0.51  0.531 0.551 0.571 0.592 0.612 0.633 0.653 0.673 0.694 0.714\n",
      " 0.735 0.755 0.776 0.796 0.816 0.837 0.857 0.878 0.898 0.918 0.939 0.959\n",
      " 0.98  1.   ]\n",
      "\n",
      "Print array values with precision 3:\n",
      "[0.    0.02  0.041 0.061 0.082 0.102 0.122 0.143 0.163 0.184 0.204 0.224\n",
      " 0.245 0.265 0.286 0.306 0.327 0.347 0.367 0.388 0.408 0.429 0.449 0.469\n",
      " 0.49  0.51  0.531 0.551 0.571 0.592 0.612 0.633 0.653 0.673 0.694 0.714\n",
      " 0.735 0.755 0.776 0.796 0.816 0.837 0.857 0.878 0.898 0.918 0.939 0.959\n",
      " 0.98  1.   ]\n"
     ]
    }
   ],
   "source": [
    "array = np.linspace(0,1)\n",
    "\n",
    "print(\"Original array elements:\")\n",
    "print(array)\n",
    "\n",
    "np.set_printoptions(precision=3)\n",
    "print(\"\\nPrint array values with precision 3:\")\n",
    "print(array)"
   ]
  },
  {
   "cell_type": "markdown",
   "metadata": {},
   "source": [
    "## 25. Suppress Scientific Notation\n",
    "\n",
    "**Question:** Write a Python program to suppress the use of scientific notation for small numbers in NumPy array.\n",
    "\n",
    "**Expected Output:**\n",
    "Original array elements:\n",
    "[ 1.60000000e-10 1.60000000e+00 1.20000000e+03 2.35000000e-01]\n",
    "Print array values with precision 3:\n",
    "[ 0. 1.6 1200. 0.235]\n",
    "\n"
   ]
  },
  {
   "cell_type": "markdown",
   "metadata": {},
   "source": [
    "## 26. Add Extra Column to Array\n",
    "\n",
    "**Question:** Write a Python program to add an extra column to a NumPy array.\n",
    "\n",
    "**Expected Output:**\n",
    "[[ 10 20 30 100]\n",
    "[ 40 50 60 200]]\n"
   ]
  },
  {
   "cell_type": "markdown",
   "metadata": {},
   "source": [
    "## 27. Remove Specific Elements\n",
    "\n",
    "**Question:** Write a Python program to remove specific elements in a NumPy array.\n",
    "\n",
    "**Expected Output:**\n",
    "Original array:\n",
    "[ 10 20 30 40 50 60 70 80 90 100]\n",
    "Delete first, fourth and fifth elements:\n",
    "[ 20 30 60 70 80 90 100]"
   ]
  },
  {
   "cell_type": "markdown",
   "metadata": {},
   "source": []
  }
 ],
 "metadata": {
  "kernelspec": {
   "display_name": "Python 3",
   "language": "python",
   "name": "python3"
  },
  "language_info": {
   "codemirror_mode": {
    "name": "ipython",
    "version": 3
   },
   "file_extension": ".py",
   "mimetype": "text/x-python",
   "name": "python",
   "nbconvert_exporter": "python",
   "pygments_lexer": "ipython3",
   "version": "3.10.4"
  }
 },
 "nbformat": 4,
 "nbformat_minor": 2
}
